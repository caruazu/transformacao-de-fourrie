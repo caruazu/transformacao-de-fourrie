{
 "cells": [
  {
   "cell_type": "markdown",
   "id": "3e3e84d0",
   "metadata": {
    "papermill": {
     "duration": 0.003221,
     "end_time": "2023-04-19T21:01:56.934025",
     "exception": false,
     "start_time": "2023-04-19T21:01:56.930804",
     "status": "completed"
    },
    "tags": []
   },
   "source": [
    "# Transformação de Fourier\n",
    "\n",
    "> The most important numerical algorithm of our lifetime - Strang, Gilbert. \"Wavelets\". _[American Scientist](https://en.wikipedia.org/wiki/American_Scientist \"American Scientist\")_. **82** (3): 250–255. [JSTOR](https://en.wikipedia.org/wiki/JSTOR_(identifier) \"JSTOR (identifier)\") [29775194](https://www.jstor.org/stable/29775194).\n",
    "\n",
    "\n",
    "$$\n",
    "{\\hat{f}}(\\alpha) = \\int_{-\\infty}^{\\infty} f(x) \\cdot e^{-2 \\pi i \\alpha x},dx.\n",
    "$$"
   ]
  },
  {
   "cell_type": "markdown",
   "id": "af0a024f",
   "metadata": {
    "papermill": {
     "duration": 0.001947,
     "end_time": "2023-04-19T21:01:56.938524",
     "exception": false,
     "start_time": "2023-04-19T21:01:56.936577",
     "status": "completed"
    },
    "tags": []
   },
   "source": [
    "Bem, essa equação me fascina. Então fiz esse notebook para explorar um pouco ela e aprofundar meus conhecimentos sobre.\n",
    "\n",
    "\n",
    "Ela tem a capacidade de desatar nós! Com essa equação podemos decompor uma freqência qualquer em componentes trigonométicas."
   ]
  },
  {
   "cell_type": "markdown",
   "id": "ff0a715f",
   "metadata": {
    "papermill": {
     "duration": 0.001942,
     "end_time": "2023-04-19T21:01:56.943108",
     "exception": false,
     "start_time": "2023-04-19T21:01:56.941166",
     "status": "completed"
    },
    "tags": []
   },
   "source": [
    "## exemplo em python\n",
    "\n",
    "Antes de tentar contruir essa equação, precisamos de um exemplo para termos uma referência."
   ]
  },
  {
   "cell_type": "code",
   "execution_count": 1,
   "id": "d0a30c01",
   "metadata": {
    "execution": {
     "iopub.execute_input": "2023-04-19T21:01:56.950140Z",
     "iopub.status.busy": "2023-04-19T21:01:56.949581Z",
     "iopub.status.idle": "2023-04-19T21:01:56.990744Z",
     "shell.execute_reply": "2023-04-19T21:01:56.989380Z"
    },
    "papermill": {
     "duration": 0.048388,
     "end_time": "2023-04-19T21:01:56.993766",
     "exception": false,
     "start_time": "2023-04-19T21:01:56.945378",
     "status": "completed"
    },
    "tags": []
   },
   "outputs": [],
   "source": [
    "import numpy as np\n",
    "import scipy\n",
    "import matplotlib.pylab as plt"
   ]
  },
  {
   "cell_type": "code",
   "execution_count": 2,
   "id": "715cd8cf",
   "metadata": {
    "execution": {
     "iopub.execute_input": "2023-04-19T21:01:57.000351Z",
     "iopub.status.busy": "2023-04-19T21:01:56.999919Z",
     "iopub.status.idle": "2023-04-19T21:01:57.194356Z",
     "shell.execute_reply": "2023-04-19T21:01:57.193362Z"
    },
    "papermill": {
     "duration": 0.201004,
     "end_time": "2023-04-19T21:01:57.197205",
     "exception": false,
     "start_time": "2023-04-19T21:01:56.996201",
     "status": "completed"
    },
    "tags": []
   },
   "outputs": [
    {
     "data": {
      "text/plain": [
       "[<matplotlib.lines.Line2D at 0x74dec8b67290>]"
      ]
     },
     "execution_count": 2,
     "metadata": {},
     "output_type": "execute_result"
    },
    {
     "data": {
      "image/png": "[encoded data removed]",
      "text/plain": [
       "<Figure size 250x112.5 with 1 Axes>"
      ]
     },
     "metadata": {},
     "output_type": "display_data"
    }
   ],
   "source": [
    "# vamos criar duas funções trigonométricas e somar elas\n",
    "# primeiro um seno com frequência 2\n",
    "\n",
    "\n",
    "# criamos o domínio da função\n",
    "x_inicial = 0\n",
    "x_final = 7\n",
    "numero_de_pontos = 256\n",
    "dominio = np.linspace(x_inicial, x_final, numero_de_pontos)\n",
    "\n",
    "# escolhendo a função\n",
    "contradominio = np.sin(dominio)\n",
    "\n",
    "# imprimido o grafico\n",
    "fig, ax = plt.subplots(figsize=(2.5,1.125))\n",
    "ax.plot(dominio, contradominio)\n"
   ]
  }
 ],
 "metadata": {
  "kernelspec": {
   "display_name": "Python 3",
   "language": "python",
   "name": "python3"
  },
  "language_info": {
   "codemirror_mode": {
    "name": "ipython",
    "version": 3
   },
   "file_extension": ".py",
   "mimetype": "text/x-python",
   "name": "python",
   "nbconvert_exporter": "python",
   "pygments_lexer": "ipython3",
   "version": "3.7.12"
  },
  "papermill": {
   "default_parameters": {},
   "duration": 11.752297,
   "end_time": "2023-04-19T21:01:57.921909",
   "environment_variables": {},
   "exception": null,
   "input_path": "__notebook__.ipynb",
   "output_path": "__notebook__.ipynb",
   "parameters": {},
   "start_time": "2023-04-19T21:01:46.169612",
   "version": "2.4.0"
  }
 },
 "nbformat": 4,
 "nbformat_minor": 5
}
